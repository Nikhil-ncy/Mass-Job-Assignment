{
 "cells": [
  {
   "cell_type": "code",
   "execution_count": 1,
   "id": "0e2a0c33-b646-4d59-80fd-b4238d910c61",
   "metadata": {},
   "outputs": [
    {
     "name": "stdout",
     "output_type": "stream",
     "text": [
      "CSV file generated successfully\n"
     ]
    }
   ],
   "source": [
    "import numpy as np\n",
    "import pandas as pd\n",
    "import os\n",
    "\n",
    "num_rows = 1000\n",
    "num_cols = 1000\n",
    "\n",
    "data = np.random.randint(50, 301, size=(num_rows, num_cols))\n",
    "\n",
    "df = pd.DataFrame(data)\n",
    "\n",
    "\n",
    "curr_directory = os.getcwd()\n",
    "\n",
    "file_path = os.path.join(curr_directory, 'dataset_1000x1000.csv')\n",
    "\n",
    "df.to_csv(file_path, index = False, header = True)\n",
    "\n",
    "print(\"CSV file generated successfully\")"
   ]
  },
  {
   "cell_type": "code",
   "execution_count": null,
   "id": "30c4c67a-6a3a-4cec-8b8b-5d26e724bcd7",
   "metadata": {},
   "outputs": [],
   "source": []
  }
 ],
 "metadata": {
  "kernelspec": {
   "display_name": "Python 3 (ipykernel)",
   "language": "python",
   "name": "python3"
  },
  "language_info": {
   "codemirror_mode": {
    "name": "ipython",
    "version": 3
   },
   "file_extension": ".py",
   "mimetype": "text/x-python",
   "name": "python",
   "nbconvert_exporter": "python",
   "pygments_lexer": "ipython3",
   "version": "3.12.3"
  }
 },
 "nbformat": 4,
 "nbformat_minor": 5
}
