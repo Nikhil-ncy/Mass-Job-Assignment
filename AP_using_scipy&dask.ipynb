{
 "cells": [
  {
   "cell_type": "markdown",
   "id": "f7dc7f2e-9bb9-424a-8de3-9890755483e0",
   "metadata": {},
   "source": [
    "#### This code uses parallelisation technique along with linear_sum_assignment function of scipy\n",
    "\n",
    "Here, we have taken no. of rows = no. of columns for minizing the cost"
   ]
  },
  {
   "cell_type": "code",
   "execution_count": 2,
   "id": "5ff66b9d-48ea-470b-ab05-5fca53e5cb2b",
   "metadata": {},
   "outputs": [],
   "source": [
    "import dask.array as da\n",
    "import pandas as pd\n",
    "import numpy as np\n",
    "from scipy.optimize import linear_sum_assignment\n",
    "import csv"
   ]
  },
  {
   "cell_type": "code",
   "execution_count": 8,
   "id": "da3dab5b-8453-4b9e-88d8-7be65df47b64",
   "metadata": {},
   "outputs": [],
   "source": [
    "# data = pd.read_csv(\"dataset_10000x1000.csv\")"
   ]
  },
  {
   "cell_type": "code",
   "execution_count": 9,
   "id": "86e2bf6d-1be6-4092-8249-15ea64d72007",
   "metadata": {},
   "outputs": [],
   "source": [
    "# costs = data.to_numpy()"
   ]
  },
  {
   "cell_type": "code",
   "execution_count": 3,
   "id": "817cff49-844e-4edd-8dce-1df69287a272",
   "metadata": {},
   "outputs": [],
   "source": [
    "def getSolution(costs):\n",
    "    dask_cost = da.from_array(costs, chunks=(1000, 1000))\n",
    "    cost_matrix_computed = dask_cost.compute()\n",
    "\n",
    "    row, col = linear_sum_assignment(cost_matrix_computed)\n",
    "    return row, col, cost_matrix_computed[row][col]"
   ]
  },
  {
   "cell_type": "code",
   "execution_count": 5,
   "id": "ec5c7123-3057-4099-81ee-66ba1e8e369c",
   "metadata": {},
   "outputs": [],
   "source": [
    "def write_solution_to_csv(row, col, costs, filename):\n",
    "    header = ['Task', 'Worker', 'Cost']\n",
    "    size = 0\n",
    "\n",
    "    with open(filename, 'w', newline='') as csvfile:\n",
    "        csvwriter = csv.writer(csvfile)\n",
    "        csvwriter.writerow(header)\n",
    "        for i, j, cost in zip(row, col, costs):\n",
    "            size = size + 1\n",
    "            csvwriter.writerow([i, j, np.min(cost)])\n",
    "            # if size == 10000:\n",
    "            #     print(cost.size)\n",
    "\n",
    "        # print(size)"
   ]
  },
  {
   "cell_type": "code",
   "execution_count": 26,
   "id": "31b5a467-3547-4d2e-9de2-efbc0e7186f8",
   "metadata": {},
   "outputs": [],
   "source": [
    "def main():\n",
    "    data = pd.read_csv(\"dataset_10000x10000.csv\")\n",
    "    cost_matrix = data.to_numpy()\n",
    "\n",
    "    row, col, costs = getSolution(cost_matrix)\n",
    "    write_solution_to_csv(row, col, costs, \"AP_solution_10000x10000.csv\")\n",
    "    print(\"Solution written to AP_solution_10000x10000.csv\")"
   ]
  },
  {
   "cell_type": "code",
   "execution_count": null,
   "id": "1104e039-20e1-4580-9b33-6928d2bad1af",
   "metadata": {},
   "outputs": [],
   "source": [
    "if __name__ == \"__main__\":\n",
    "    main()"
   ]
  },
  {
   "cell_type": "code",
   "execution_count": null,
   "id": "0ff8ac58-d279-4956-a571-17b70d40aec9",
   "metadata": {},
   "outputs": [],
   "source": []
  }
 ],
 "metadata": {
  "kernelspec": {
   "display_name": "Python 3 (ipykernel)",
   "language": "python",
   "name": "python3"
  },
  "language_info": {
   "codemirror_mode": {
    "name": "ipython",
    "version": 3
   },
   "file_extension": ".py",
   "mimetype": "text/x-python",
   "name": "python",
   "nbconvert_exporter": "python",
   "pygments_lexer": "ipython3",
   "version": "3.12.3"
  }
 },
 "nbformat": 4,
 "nbformat_minor": 5
}
