{
 "cells": [
  {
   "cell_type": "code",
   "execution_count": 1,
   "id": "8f70ab04-d301-47f3-b4cc-079d890a5e08",
   "metadata": {},
   "outputs": [],
   "source": [
    "import numpy as np\n",
    "import pandas as pd\n",
    "from ortools.linear_solver import pywraplp"
   ]
  },
  {
   "cell_type": "code",
   "execution_count": 2,
   "id": "33f50370-1a97-47e5-bb3b-095c11ba6246",
   "metadata": {},
   "outputs": [],
   "source": [
    "data = pd.read_csv(\"dataset_2000x1000.csv\")"
   ]
  },
  {
   "cell_type": "code",
   "execution_count": 3,
   "id": "bdf13c94-df35-4f9f-ac19-498cda4a501a",
   "metadata": {},
   "outputs": [],
   "source": [
    "costs = data.to_numpy()"
   ]
  },
  {
   "cell_type": "code",
   "execution_count": 17,
   "id": "bf214cf5-cc6e-4708-9c08-d272702bff31",
   "metadata": {},
   "outputs": [],
   "source": [
    "# print(costs[4][8])"
   ]
  },
  {
   "cell_type": "code",
   "execution_count": 20,
   "id": "6fe32441-0f0d-4297-829f-0505112d005f",
   "metadata": {},
   "outputs": [
    {
     "name": "stdout",
     "output_type": "stream",
     "text": [
      "1000 workers [columns]\n",
      "2000 tasks [rows]\n"
     ]
    }
   ],
   "source": [
    "num_workers = len(costs[0])\n",
    "num_tasks = len(costs)\n",
    "\n",
    "print(f\"{num_workers} workers [columns]\\n{num_tasks} tasks [rows]\")"
   ]
  },
  {
   "cell_type": "code",
   "execution_count": 23,
   "id": "5e130a02-0023-4f46-bfa2-435cf5b45ca6",
   "metadata": {},
   "outputs": [],
   "source": [
    "solver = pywraplp.Solver.CreateSolver('SCIP')"
   ]
  },
  {
   "cell_type": "code",
   "execution_count": 7,
   "id": "4a7eb258-084b-48be-a1d2-6755dd68f1d3",
   "metadata": {},
   "outputs": [],
   "source": [
    "x = {}\n",
    "for i in range(num_tasks):\n",
    "    for j in range(num_workers):\n",
    "        x[i, j] = solver.IntVar(0, 1, \"\")"
   ]
  },
  {
   "cell_type": "code",
   "execution_count": 8,
   "id": "9077ee2a-6dfe-4a5f-a12e-87aa636cd904",
   "metadata": {},
   "outputs": [],
   "source": [
    "# each task is assigned to one worker only\n",
    "for i in range(num_tasks):\n",
    "    solver.Add(solver.Sum([x[i, j] for j in range(num_workers)]) == 1)\n",
    "\n",
    "# one person can take up multiple jobs\n",
    "for j in range(num_workers):\n",
    "    solver.Add(solver.Sum([x[i, j] for i in range(num_tasks)]) >= 1)"
   ]
  },
  {
   "cell_type": "code",
   "execution_count": 9,
   "id": "ef24168e-bcd0-4581-bd19-82eee10614ad",
   "metadata": {},
   "outputs": [],
   "source": [
    "objective_terms = []\n",
    "\n",
    "for i in range(num_tasks):\n",
    "    for j in range(num_workers):\n",
    "        objective_terms.append(costs[i][j] * x[i, j])\n",
    "\n",
    "solver.Minimize(solver.Sum(objective_terms))"
   ]
  },
  {
   "cell_type": "code",
   "execution_count": 10,
   "id": "0e1d9279-64d1-4b38-ba11-b5e8e30462ef",
   "metadata": {},
   "outputs": [],
   "source": [
    "status = solver.Solve()"
   ]
  },
  {
   "cell_type": "code",
   "execution_count": 11,
   "id": "8d13b479-e921-4060-ac29-6a6509ba056c",
   "metadata": {},
   "outputs": [
    {
     "name": "stdout",
     "output_type": "stream",
     "text": [
      "Total Cost = 100035.0\n",
      "\n"
     ]
    }
   ],
   "source": [
    "if status == pywraplp.Solver.OPTIMAL or status == pywraplp.Solver.FEASIBLE:\n",
    "    print(f'Total Cost = {solver.Objective().Value()}\\n')\n",
    "\n",
    "else:\n",
    "    print(\"NO SOLUTION FOUND\")"
   ]
  },
  {
   "cell_type": "markdown",
   "id": "33495973-c574-475c-823e-130e0eaad1ca",
   "metadata": {},
   "source": [
    "Extract the solution"
   ]
  },
  {
   "cell_type": "code",
   "execution_count": 14,
   "id": "b60fdf7d-a974-4c06-a8dc-9885981e5875",
   "metadata": {},
   "outputs": [],
   "source": [
    "solution = []\n",
    "for i in range(num_tasks):\n",
    "    for j in range(num_workers):\n",
    "        if x[i, j].solution_value() == 1:\n",
    "            solution.append((i, j, costs[i][j]))\n",
    "\n",
    "filename = \"AP_solution_2000x1000.csv\""
   ]
  },
  {
   "cell_type": "code",
   "execution_count": 16,
   "id": "7a90a208-c545-40cf-8ee8-bc39e7dc496f",
   "metadata": {},
   "outputs": [],
   "source": [
    "import csv\n",
    "header = ['Task', 'Worker', 'Cost']\n",
    "with open(filename, 'w', newline='') as csvfile:\n",
    "    csvwriter = csv.writer(csvfile)\n",
    "    csvwriter.writerow(header)\n",
    "    for row in solution:\n",
    "        csvwriter.writerow(row)"
   ]
  },
  {
   "cell_type": "code",
   "execution_count": null,
   "id": "9a796559-d64b-47bf-9c0c-3381619dde3d",
   "metadata": {},
   "outputs": [],
   "source": []
  }
 ],
 "metadata": {
  "kernelspec": {
   "display_name": "Python 3 (ipykernel)",
   "language": "python",
   "name": "python3"
  },
  "language_info": {
   "codemirror_mode": {
    "name": "ipython",
    "version": 3
   },
   "file_extension": ".py",
   "mimetype": "text/x-python",
   "name": "python",
   "nbconvert_exporter": "python",
   "pygments_lexer": "ipython3",
   "version": "3.12.3"
  }
 },
 "nbformat": 4,
 "nbformat_minor": 5
}
